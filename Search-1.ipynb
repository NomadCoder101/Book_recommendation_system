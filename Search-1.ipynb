{
 "cells": [
  {
   "cell_type": "markdown",
   "id": "6342629a",
   "metadata": {},
   "source": [
    "Project overview \n",
    "Goal = Recommend Books\n",
    "Needs: \n",
    "List of books we like\n",
    "Data on Book Ratings\n",
    "\n",
    "Data used = GOODREADS Book data\n",
    "\n",
    "Files Used :\n",
    "Good Reads  Interaction .csv\n",
    "Good Reads Books .json\n",
    "Book Id Map .csv\n",
    "\n",
    "\n",
    "STEPs for Project:\n",
    "1: Search For Book\n",
    "2:Create Book Lists\n",
    "3:Recommend Books\n",
    "\n"
   ]
  },
  {
   "cell_type": "markdown",
   "id": "c84579e6",
   "metadata": {},
   "source": [
    "# Exploring Data in Python"
   ]
  },
  {
   "cell_type": "code",
   "execution_count": 21,
   "id": "4f86484c",
   "metadata": {},
   "outputs": [
    {
     "name": "stdout",
     "output_type": "stream",
     "text": [
      "7588375 goodreads_books.json.gz\r\n"
     ]
    }
   ],
   "source": [
    "!wc -l goodreads_books.json.gz"
   ]
  },
  {
   "cell_type": "code",
   "execution_count": 22,
   "id": "0337fb8c",
   "metadata": {},
   "outputs": [
    {
     "name": "stdout",
     "output_type": "stream",
     "text": [
      "-rw-rw-r-- 1 threat_hunter threat_hunter 2.0G Aug 19 00:13 goodreads_books.json.gz\r\n"
     ]
    }
   ],
   "source": [
    "!ls -lh | grep goodreads_books.json.gz"
   ]
  },
  {
   "cell_type": "code",
   "execution_count": 23,
   "id": "5f6aeb9c",
   "metadata": {},
   "outputs": [],
   "source": [
    "import gzip"
   ]
  },
  {
   "cell_type": "code",
   "execution_count": 24,
   "id": "d2f835dc",
   "metadata": {},
   "outputs": [],
   "source": [
    "with gzip.open('goodreads_books.json.gz','r') as f:\n",
    "    line = f.readline()"
   ]
  },
  {
   "cell_type": "code",
   "execution_count": 25,
   "id": "aae7aa79",
   "metadata": {},
   "outputs": [
    {
     "data": {
      "text/plain": [
       "b'{\"isbn\": \"0312853122\", \"text_reviews_count\": \"1\", \"series\": [], \"country_code\": \"US\", \"language_code\": \"\", \"popular_shelves\": [{\"count\": \"3\", \"name\": \"to-read\"}, {\"count\": \"1\", \"name\": \"p\"}, {\"count\": \"1\", \"name\": \"collection\"}, {\"count\": \"1\", \"name\": \"w-c-fields\"}, {\"count\": \"1\", \"name\": \"biography\"}], \"asin\": \"\", \"is_ebook\": \"false\", \"average_rating\": \"4.00\", \"kindle_asin\": \"\", \"similar_books\": [], \"description\": \"\", \"format\": \"Paperback\", \"link\": \"https://www.goodreads.com/book/show/5333265-w-c-fields\", \"authors\": [{\"author_id\": \"604031\", \"role\": \"\"}], \"publisher\": \"St. Martin\\'s Press\", \"num_pages\": \"256\", \"publication_day\": \"1\", \"isbn13\": \"9780312853129\", \"publication_month\": \"9\", \"edition_information\": \"\", \"publication_year\": \"1984\", \"url\": \"https://www.goodreads.com/book/show/5333265-w-c-fields\", \"image_url\": \"https://images.gr-assets.com/books/1310220028m/5333265.jpg\", \"book_id\": \"5333265\", \"ratings_count\": \"3\", \"work_id\": \"5400751\", \"title\": \"W.C. Fields: A Life on Film\", \"title_without_series\": \"W.C. Fields: A Life on Film\"}\\n'"
      ]
     },
     "execution_count": 25,
     "metadata": {},
     "output_type": "execute_result"
    }
   ],
   "source": [
    "line"
   ]
  },
  {
   "cell_type": "code",
   "execution_count": 26,
   "id": "c56f823a",
   "metadata": {},
   "outputs": [
    {
     "data": {
      "text/plain": [
       "{'isbn': '0312853122',\n",
       " 'text_reviews_count': '1',\n",
       " 'series': [],\n",
       " 'country_code': 'US',\n",
       " 'language_code': '',\n",
       " 'popular_shelves': [{'count': '3', 'name': 'to-read'},\n",
       "  {'count': '1', 'name': 'p'},\n",
       "  {'count': '1', 'name': 'collection'},\n",
       "  {'count': '1', 'name': 'w-c-fields'},\n",
       "  {'count': '1', 'name': 'biography'}],\n",
       " 'asin': '',\n",
       " 'is_ebook': 'false',\n",
       " 'average_rating': '4.00',\n",
       " 'kindle_asin': '',\n",
       " 'similar_books': [],\n",
       " 'description': '',\n",
       " 'format': 'Paperback',\n",
       " 'link': 'https://www.goodreads.com/book/show/5333265-w-c-fields',\n",
       " 'authors': [{'author_id': '604031', 'role': ''}],\n",
       " 'publisher': \"St. Martin's Press\",\n",
       " 'num_pages': '256',\n",
       " 'publication_day': '1',\n",
       " 'isbn13': '9780312853129',\n",
       " 'publication_month': '9',\n",
       " 'edition_information': '',\n",
       " 'publication_year': '1984',\n",
       " 'url': 'https://www.goodreads.com/book/show/5333265-w-c-fields',\n",
       " 'image_url': 'https://images.gr-assets.com/books/1310220028m/5333265.jpg',\n",
       " 'book_id': '5333265',\n",
       " 'ratings_count': '3',\n",
       " 'work_id': '5400751',\n",
       " 'title': 'W.C. Fields: A Life on Film',\n",
       " 'title_without_series': 'W.C. Fields: A Life on Film'}"
      ]
     },
     "execution_count": 26,
     "metadata": {},
     "output_type": "execute_result"
    }
   ],
   "source": [
    "import json\n",
    "json.loads(line)"
   ]
  },
  {
   "cell_type": "markdown",
   "id": "950d6634",
   "metadata": {},
   "source": [
    "# Pasring our Book METADATA"
   ]
  },
  {
   "cell_type": "code",
   "execution_count": 27,
   "id": "fc94b7b4",
   "metadata": {},
   "outputs": [],
   "source": [
    "def parse_fields(line):\n",
    "    data = json.loads(line)\n",
    "    return{\n",
    "        \"book_id\":data[\"book_id\"],\n",
    "        \"title\":data[\"title_without_series\"],\n",
    "        \"ratings\":data[\"ratings_count\"],\n",
    "        \"url\":data[\"url\"],\n",
    "        \"cover_image\":data[\"image_url\"]\n",
    "        \n",
    "    }"
   ]
  },
  {
   "cell_type": "code",
   "execution_count": 28,
   "id": "e5fb1299",
   "metadata": {},
   "outputs": [],
   "source": [
    "books_titles =[]\n",
    "with gzip.open(\"goodreads_books.json.gz\",'r') as f:\n",
    "    while True:\n",
    "        line = f.readline()\n",
    "        if not line:\n",
    "            break\n",
    "        fields = parse_fields(line)\n",
    "        \n",
    "        try:\n",
    "            ratings = int(fields[\"ratings\"])\n",
    "        except ValueError:\n",
    "            continue\n",
    "        if ratings > 15:\n",
    "            books_titles.append(fields)\n",
    "    "
   ]
  },
  {
   "cell_type": "markdown",
   "id": "f089e18e",
   "metadata": {},
   "source": [
    "# Processing Book METADATA with Pandas"
   ]
  },
  {
   "cell_type": "code",
   "execution_count": 29,
   "id": "d8c4cc36",
   "metadata": {},
   "outputs": [],
   "source": [
    "import pandas as pd\n",
    "\n",
    "titles = pd.DataFrame.from_dict(books_titles)"
   ]
  },
  {
   "cell_type": "code",
   "execution_count": 30,
   "id": "da67fe2e",
   "metadata": {},
   "outputs": [],
   "source": [
    "titles['ratings'] = pd.to_numeric(titles['ratings'])"
   ]
  },
  {
   "cell_type": "code",
   "execution_count": 31,
   "id": "262983df",
   "metadata": {},
   "outputs": [],
   "source": [
    "titles[\"mod_title\"] = titles[\"title\"].str.replace(\"[^a-zA-Z0-9 ]\", \"\", regex=True)"
   ]
  },
  {
   "cell_type": "code",
   "execution_count": 32,
   "id": "3c8d65f5",
   "metadata": {},
   "outputs": [],
   "source": [
    "titles[\"mod_title\"] = titles[\"mod_title\"].str.lower()"
   ]
  },
  {
   "cell_type": "code",
   "execution_count": 33,
   "id": "2613e051",
   "metadata": {},
   "outputs": [],
   "source": [
    "titles[\"mod_title\"] = titles[\"mod_title\"].str.replace(\"\\s+\", \" \", regex=True)"
   ]
  },
  {
   "cell_type": "code",
   "execution_count": 34,
   "id": "e26a15ec",
   "metadata": {},
   "outputs": [],
   "source": [
    "titles = titles[titles[\"mod_title\"].str.len() > 0]\n"
   ]
  },
  {
   "cell_type": "code",
   "execution_count": 35,
   "id": "da7bac38",
   "metadata": {},
   "outputs": [],
   "source": [
    "titles.to_json(\"books_titles.json\")"
   ]
  },
  {
   "cell_type": "code",
   "execution_count": 36,
   "id": "13fd6fc7",
   "metadata": {},
   "outputs": [
    {
     "data": {
      "text/html": [
       "<div>\n",
       "<style scoped>\n",
       "    .dataframe tbody tr th:only-of-type {\n",
       "        vertical-align: middle;\n",
       "    }\n",
       "\n",
       "    .dataframe tbody tr th {\n",
       "        vertical-align: top;\n",
       "    }\n",
       "\n",
       "    .dataframe thead th {\n",
       "        text-align: right;\n",
       "    }\n",
       "</style>\n",
       "<table border=\"1\" class=\"dataframe\">\n",
       "  <thead>\n",
       "    <tr style=\"text-align: right;\">\n",
       "      <th></th>\n",
       "      <th>book_id</th>\n",
       "      <th>title</th>\n",
       "      <th>ratings</th>\n",
       "      <th>url</th>\n",
       "      <th>cover_image</th>\n",
       "      <th>mod_title</th>\n",
       "    </tr>\n",
       "  </thead>\n",
       "  <tbody>\n",
       "    <tr>\n",
       "      <th>0</th>\n",
       "      <td>7327624</td>\n",
       "      <td>The Unschooled Wizard (Sun Wolf and Starhawk, ...</td>\n",
       "      <td>140</td>\n",
       "      <td>https://www.goodreads.com/book/show/7327624-th...</td>\n",
       "      <td>https://images.gr-assets.com/books/1304100136m...</td>\n",
       "      <td>the unschooled wizard sun wolf and starhawk 12</td>\n",
       "    </tr>\n",
       "    <tr>\n",
       "      <th>1</th>\n",
       "      <td>6066819</td>\n",
       "      <td>Best Friends Forever</td>\n",
       "      <td>51184</td>\n",
       "      <td>https://www.goodreads.com/book/show/6066819-be...</td>\n",
       "      <td>https://s.gr-assets.com/assets/nophoto/book/11...</td>\n",
       "      <td>best friends forever</td>\n",
       "    </tr>\n",
       "    <tr>\n",
       "      <th>2</th>\n",
       "      <td>287141</td>\n",
       "      <td>The Aeneid for Boys and Girls</td>\n",
       "      <td>46</td>\n",
       "      <td>https://www.goodreads.com/book/show/287141.The...</td>\n",
       "      <td>https://s.gr-assets.com/assets/nophoto/book/11...</td>\n",
       "      <td>the aeneid for boys and girls</td>\n",
       "    </tr>\n",
       "    <tr>\n",
       "      <th>3</th>\n",
       "      <td>6066812</td>\n",
       "      <td>All's Fairy in Love and War (Avalon: Web of Ma...</td>\n",
       "      <td>98</td>\n",
       "      <td>https://www.goodreads.com/book/show/6066812-al...</td>\n",
       "      <td>https://images.gr-assets.com/books/1316637798m...</td>\n",
       "      <td>alls fairy in love and war avalon web of magic 8</td>\n",
       "    </tr>\n",
       "    <tr>\n",
       "      <th>4</th>\n",
       "      <td>287149</td>\n",
       "      <td>The Devil's Notebook</td>\n",
       "      <td>986</td>\n",
       "      <td>https://www.goodreads.com/book/show/287149.The...</td>\n",
       "      <td>https://images.gr-assets.com/books/1328768789m...</td>\n",
       "      <td>the devils notebook</td>\n",
       "    </tr>\n",
       "    <tr>\n",
       "      <th>...</th>\n",
       "      <td>...</td>\n",
       "      <td>...</td>\n",
       "      <td>...</td>\n",
       "      <td>...</td>\n",
       "      <td>...</td>\n",
       "      <td>...</td>\n",
       "    </tr>\n",
       "    <tr>\n",
       "      <th>1308952</th>\n",
       "      <td>17805813</td>\n",
       "      <td>Ondine (Ondine Quartet, #0.5)</td>\n",
       "      <td>327</td>\n",
       "      <td>https://www.goodreads.com/book/show/17805813-o...</td>\n",
       "      <td>https://images.gr-assets.com/books/1379766592m...</td>\n",
       "      <td>ondine ondine quartet 05</td>\n",
       "    </tr>\n",
       "    <tr>\n",
       "      <th>1308953</th>\n",
       "      <td>331839</td>\n",
       "      <td>Jacqueline Kennedy Onassis: Friend of the Arts</td>\n",
       "      <td>18</td>\n",
       "      <td>https://www.goodreads.com/book/show/331839.Jac...</td>\n",
       "      <td>https://s.gr-assets.com/assets/nophoto/book/11...</td>\n",
       "      <td>jacqueline kennedy onassis friend of the arts</td>\n",
       "    </tr>\n",
       "    <tr>\n",
       "      <th>1308954</th>\n",
       "      <td>2685097</td>\n",
       "      <td>The Spaniard's Blackmailed Bride</td>\n",
       "      <td>112</td>\n",
       "      <td>https://www.goodreads.com/book/show/2685097-th...</td>\n",
       "      <td>https://s.gr-assets.com/assets/nophoto/book/11...</td>\n",
       "      <td>the spaniards blackmailed bride</td>\n",
       "    </tr>\n",
       "    <tr>\n",
       "      <th>1308955</th>\n",
       "      <td>2342551</td>\n",
       "      <td>The Children's Classic Poetry Collection</td>\n",
       "      <td>36</td>\n",
       "      <td>https://www.goodreads.com/book/show/2342551.Th...</td>\n",
       "      <td>https://s.gr-assets.com/assets/nophoto/book/11...</td>\n",
       "      <td>the childrens classic poetry collection</td>\n",
       "    </tr>\n",
       "    <tr>\n",
       "      <th>1308956</th>\n",
       "      <td>22017381</td>\n",
       "      <td>101 Nights: Volume One (101 Nights, #1-3)</td>\n",
       "      <td>70</td>\n",
       "      <td>https://www.goodreads.com/book/show/22017381-1...</td>\n",
       "      <td>https://images.gr-assets.com/books/1398621236m...</td>\n",
       "      <td>101 nights volume one 101 nights 13</td>\n",
       "    </tr>\n",
       "  </tbody>\n",
       "</table>\n",
       "<p>1302659 rows × 6 columns</p>\n",
       "</div>"
      ],
      "text/plain": [
       "          book_id                                              title  ratings  \\\n",
       "0         7327624  The Unschooled Wizard (Sun Wolf and Starhawk, ...      140   \n",
       "1         6066819                               Best Friends Forever    51184   \n",
       "2          287141                      The Aeneid for Boys and Girls       46   \n",
       "3         6066812  All's Fairy in Love and War (Avalon: Web of Ma...       98   \n",
       "4          287149                               The Devil's Notebook      986   \n",
       "...           ...                                                ...      ...   \n",
       "1308952  17805813                      Ondine (Ondine Quartet, #0.5)      327   \n",
       "1308953    331839     Jacqueline Kennedy Onassis: Friend of the Arts       18   \n",
       "1308954   2685097                   The Spaniard's Blackmailed Bride      112   \n",
       "1308955   2342551           The Children's Classic Poetry Collection       36   \n",
       "1308956  22017381          101 Nights: Volume One (101 Nights, #1-3)       70   \n",
       "\n",
       "                                                       url  \\\n",
       "0        https://www.goodreads.com/book/show/7327624-th...   \n",
       "1        https://www.goodreads.com/book/show/6066819-be...   \n",
       "2        https://www.goodreads.com/book/show/287141.The...   \n",
       "3        https://www.goodreads.com/book/show/6066812-al...   \n",
       "4        https://www.goodreads.com/book/show/287149.The...   \n",
       "...                                                    ...   \n",
       "1308952  https://www.goodreads.com/book/show/17805813-o...   \n",
       "1308953  https://www.goodreads.com/book/show/331839.Jac...   \n",
       "1308954  https://www.goodreads.com/book/show/2685097-th...   \n",
       "1308955  https://www.goodreads.com/book/show/2342551.Th...   \n",
       "1308956  https://www.goodreads.com/book/show/22017381-1...   \n",
       "\n",
       "                                               cover_image  \\\n",
       "0        https://images.gr-assets.com/books/1304100136m...   \n",
       "1        https://s.gr-assets.com/assets/nophoto/book/11...   \n",
       "2        https://s.gr-assets.com/assets/nophoto/book/11...   \n",
       "3        https://images.gr-assets.com/books/1316637798m...   \n",
       "4        https://images.gr-assets.com/books/1328768789m...   \n",
       "...                                                    ...   \n",
       "1308952  https://images.gr-assets.com/books/1379766592m...   \n",
       "1308953  https://s.gr-assets.com/assets/nophoto/book/11...   \n",
       "1308954  https://s.gr-assets.com/assets/nophoto/book/11...   \n",
       "1308955  https://s.gr-assets.com/assets/nophoto/book/11...   \n",
       "1308956  https://images.gr-assets.com/books/1398621236m...   \n",
       "\n",
       "                                                mod_title  \n",
       "0          the unschooled wizard sun wolf and starhawk 12  \n",
       "1                                    best friends forever  \n",
       "2                           the aeneid for boys and girls  \n",
       "3        alls fairy in love and war avalon web of magic 8  \n",
       "4                                     the devils notebook  \n",
       "...                                                   ...  \n",
       "1308952                          ondine ondine quartet 05  \n",
       "1308953     jacqueline kennedy onassis friend of the arts  \n",
       "1308954                   the spaniards blackmailed bride  \n",
       "1308955           the childrens classic poetry collection  \n",
       "1308956               101 nights volume one 101 nights 13  \n",
       "\n",
       "[1302659 rows x 6 columns]"
      ]
     },
     "execution_count": 36,
     "metadata": {},
     "output_type": "execute_result"
    }
   ],
   "source": [
    "titles"
   ]
  },
  {
   "cell_type": "markdown",
   "id": "043ee9c2",
   "metadata": {},
   "source": [
    "# Building A Book Search Engine\n",
    "\n",
    "Term Frequency  * Inverse Document Frequency  -- Matrix\n",
    "\n",
    "Example:\n",
    "The                   The      Harry    Potter\n",
    "1    0      0         log(3/3) log(3/2) log(3/1)\n",
    "                                        0.23856062736 \n",
    "The Harry Potter *     \n",
    "1    1     1\n",
    "The Harry\n",
    "1    1     0\n",
    "\n",
    "\n",
    "Harry = 2  *  0.23856062736  =      0.47712125472\n"
   ]
  },
  {
   "cell_type": "code",
   "execution_count": 38,
   "id": "b3504268",
   "metadata": {},
   "outputs": [
    {
     "name": "stdout",
     "output_type": "stream",
     "text": [
      "Defaulting to user installation because normal site-packages is not writeable\n",
      "Collecting scikit-learn\n",
      "  Using cached scikit_learn-1.3.0-cp310-cp310-manylinux_2_17_x86_64.manylinux2014_x86_64.whl (10.8 MB)\n",
      "Collecting scipy>=1.5.0\n",
      "  Downloading scipy-1.11.2-cp310-cp310-manylinux_2_17_x86_64.manylinux2014_x86_64.whl (36.3 MB)\n",
      "\u001b[2K     \u001b[38;2;114;156;31m━━━━━━━━━━━━━━━━━━━━━━━━━━━━━━━━━━━━━━━━\u001b[0m \u001b[32m36.3/36.3 MB\u001b[0m \u001b[31m2.2 MB/s\u001b[0m eta \u001b[36m0:00:00\u001b[0mm eta \u001b[36m0:00:01\u001b[0m[36m0:00:01\u001b[0mm\n",
      "\u001b[?25hRequirement already satisfied: numpy>=1.17.3 in /home/threat_hunter/.local/lib/python3.10/site-packages (from scikit-learn) (1.24.0)\n",
      "Collecting joblib>=1.1.1\n",
      "  Using cached joblib-1.3.2-py3-none-any.whl (302 kB)\n",
      "Collecting threadpoolctl>=2.0.0\n",
      "  Using cached threadpoolctl-3.2.0-py3-none-any.whl (15 kB)\n",
      "Installing collected packages: threadpoolctl, scipy, joblib, scikit-learn\n",
      "Successfully installed joblib-1.3.2 scikit-learn-1.3.0 scipy-1.11.2 threadpoolctl-3.2.0\n",
      "Note: you may need to restart the kernel to use updated packages.\n"
     ]
    }
   ],
   "source": [
    "pip install -U scikit-learn"
   ]
  },
  {
   "cell_type": "code",
   "execution_count": 39,
   "id": "0bd59234",
   "metadata": {
    "scrolled": true
   },
   "outputs": [],
   "source": [
    "\n",
    "from sklearn.feature_extraction.text import TfidfVectorizer\n",
    "\n",
    "vectorizer = TfidfVectorizer()\n",
    "\n",
    "tfidf = vectorizer.fit_transform(titles[\"mod_title\"])"
   ]
  },
  {
   "cell_type": "code",
   "execution_count": 64,
   "id": "540e268e",
   "metadata": {},
   "outputs": [
    {
     "data": {
      "text/plain": [
       "<1302659x233827 sparse matrix of type '<class 'numpy.float64'>'\n",
       "\twith 6207224 stored elements in Compressed Sparse Row format>"
      ]
     },
     "execution_count": 64,
     "metadata": {},
     "output_type": "execute_result"
    }
   ],
   "source": [
    "tfidf"
   ]
  },
  {
   "cell_type": "code",
   "execution_count": 49,
   "id": "fbab71b1",
   "metadata": {},
   "outputs": [
    {
     "data": {
      "text/plain": [
       "'\\nfrom sklearn.metrics.pairwise import cosine_similarity\\nimport numpy as np\\nimport re\\n\\n\\nquery =\"fire upon the deep\"\\n\\nprocessed = re.sub(\"[^a-zA-Z0-9 ]\",\"\",query.lower())\\nquery_vec = vectorizer.transform([processed])\\nsimilarity = cosine_similarity(query_vec,tfidf).flatten()\\n\\nindices = np.argpartition(similarity, -10)[-10:]\\nresults = titles.iloc[indices]\\nresults = results.sort_values(\"ratings\", ascending=False)\\n'"
      ]
     },
     "execution_count": 49,
     "metadata": {},
     "output_type": "execute_result"
    }
   ],
   "source": [
    "'''\n",
    "from sklearn.metrics.pairwise import cosine_similarity\n",
    "import numpy as np\n",
    "import re\n",
    "\n",
    "\n",
    "query =\"fire upon the deep\"\n",
    "\n",
    "processed = re.sub(\"[^a-zA-Z0-9 ]\",\"\",query.lower())\n",
    "query_vec = vectorizer.transform([processed])\n",
    "similarity = cosine_similarity(query_vec,tfidf).flatten()\n",
    "\n",
    "indices = np.argpartition(similarity, -10)[-10:]\n",
    "results = titles.iloc[indices]\n",
    "results = results.sort_values(\"ratings\", ascending=False)\n",
    "'''\n",
    "\n"
   ]
  },
  {
   "cell_type": "code",
   "execution_count": 50,
   "id": "d9d912d8",
   "metadata": {},
   "outputs": [],
   "source": [
    "#similarity\n",
    "#results"
   ]
  },
  {
   "cell_type": "code",
   "execution_count": 59,
   "id": "e8cd2d1c",
   "metadata": {},
   "outputs": [],
   "source": [
    "from sklearn.metrics.pairwise import cosine_similarity\n",
    "import numpy as np\n",
    "import re\n",
    "\n",
    "def make_clickable(val):\n",
    "    return '<a target=\"_blank\" href=\"{}\">Goodreads</a>'.format(val, val)\n",
    "\n",
    "def show_image(val):\n",
    "    return '<a href=\"{}\"><img src=\"{}\" width=50></img></a>'.format(val, val)\n",
    "\n",
    "\n",
    "#query =\"fire upon the deep\"\n",
    "def search(query,vectorizer):\n",
    "    processed = re.sub(\"[^a-zA-Z0-9 ]\",\"\",query.lower())\n",
    "    query_vec = vectorizer.transform([processed])\n",
    "    similarity = cosine_similarity(query_vec,tfidf).flatten()\n",
    "\n",
    "    indices = np.argpartition(similarity, -10)[-10:]\n",
    "    results = titles.iloc[indices]\n",
    "    results = results.sort_values(\"ratings\", ascending=False)\n",
    "    #return results.head(5)\n",
    "    return results.head(5).style.format({'url': make_clickable, 'cover_image': show_image})\n"
   ]
  },
  {
   "cell_type": "code",
   "execution_count": 63,
   "id": "26d68600",
   "metadata": {},
   "outputs": [
    {
     "data": {
      "text/html": [
       "<style type=\"text/css\">\n",
       "</style>\n",
       "<table id=\"T_7ed92\">\n",
       "  <thead>\n",
       "    <tr>\n",
       "      <th class=\"blank level0\" >&nbsp;</th>\n",
       "      <th id=\"T_7ed92_level0_col0\" class=\"col_heading level0 col0\" >book_id</th>\n",
       "      <th id=\"T_7ed92_level0_col1\" class=\"col_heading level0 col1\" >title</th>\n",
       "      <th id=\"T_7ed92_level0_col2\" class=\"col_heading level0 col2\" >ratings</th>\n",
       "      <th id=\"T_7ed92_level0_col3\" class=\"col_heading level0 col3\" >url</th>\n",
       "      <th id=\"T_7ed92_level0_col4\" class=\"col_heading level0 col4\" >cover_image</th>\n",
       "      <th id=\"T_7ed92_level0_col5\" class=\"col_heading level0 col5\" >mod_title</th>\n",
       "    </tr>\n",
       "  </thead>\n",
       "  <tbody>\n",
       "    <tr>\n",
       "      <th id=\"T_7ed92_level0_row0\" class=\"row_heading level0 row0\" >129532</th>\n",
       "      <td id=\"T_7ed92_row0_col0\" class=\"data row0 col0\" >7809996</td>\n",
       "      <td id=\"T_7ed92_row0_col1\" class=\"data row0 col1\" >هاري بوتر وحجرة الأسرار (Harry Potter, #2)</td>\n",
       "      <td id=\"T_7ed92_row0_col2\" class=\"data row0 col2\" >1117</td>\n",
       "      <td id=\"T_7ed92_row0_col3\" class=\"data row0 col3\" ><a target=\"_blank\" href=\"https://www.goodreads.com/book/show/7809996\">Goodreads</a></td>\n",
       "      <td id=\"T_7ed92_row0_col4\" class=\"data row0 col4\" ><a href=\"https://s.gr-assets.com/assets/nophoto/book/111x148-bcc042a9c91a29c1d680899eff700a03.png\"><img src=\"https://s.gr-assets.com/assets/nophoto/book/111x148-bcc042a9c91a29c1d680899eff700a03.png\" width=50></img></a></td>\n",
       "      <td id=\"T_7ed92_row0_col5\" class=\"data row0 col5\" > harry potter 2</td>\n",
       "    </tr>\n",
       "    <tr>\n",
       "      <th id=\"T_7ed92_level0_row1\" class=\"row_heading level0 row1\" >1044938</th>\n",
       "      <td id=\"T_7ed92_row1_col0\" class=\"data row1 col0\" >49869</td>\n",
       "      <td id=\"T_7ed92_row1_col1\" class=\"data row1 col1\" >هاري بوتر وسجين أزكابان (Harry Potter, #3)</td>\n",
       "      <td id=\"T_7ed92_row1_col2\" class=\"data row1 col2\" >1023</td>\n",
       "      <td id=\"T_7ed92_row1_col3\" class=\"data row1 col3\" ><a target=\"_blank\" href=\"https://www.goodreads.com/book/show/49869._\">Goodreads</a></td>\n",
       "      <td id=\"T_7ed92_row1_col4\" class=\"data row1 col4\" ><a href=\"https://images.gr-assets.com/books/1329651788m/49869.jpg\"><img src=\"https://images.gr-assets.com/books/1329651788m/49869.jpg\" width=50></img></a></td>\n",
       "      <td id=\"T_7ed92_row1_col5\" class=\"data row1 col5\" > harry potter 3</td>\n",
       "    </tr>\n",
       "    <tr>\n",
       "      <th id=\"T_7ed92_level0_row2\" class=\"row_heading level0 row2\" >19737</th>\n",
       "      <td id=\"T_7ed92_row2_col0\" class=\"data row2 col0\" >49839</td>\n",
       "      <td id=\"T_7ed92_row2_col1\" class=\"data row2 col1\" >هاري بوتر وكأس النار (Harry Potter, #4)</td>\n",
       "      <td id=\"T_7ed92_row2_col2\" class=\"data row2 col2\" >957</td>\n",
       "      <td id=\"T_7ed92_row2_col3\" class=\"data row2 col3\" ><a target=\"_blank\" href=\"https://www.goodreads.com/book/show/49839._\">Goodreads</a></td>\n",
       "      <td id=\"T_7ed92_row2_col4\" class=\"data row2 col4\" ><a href=\"https://images.gr-assets.com/books/1312417199m/49839.jpg\"><img src=\"https://images.gr-assets.com/books/1312417199m/49839.jpg\" width=50></img></a></td>\n",
       "      <td id=\"T_7ed92_row2_col5\" class=\"data row2 col5\" > harry potter 4</td>\n",
       "    </tr>\n",
       "    <tr>\n",
       "      <th id=\"T_7ed92_level0_row3\" class=\"row_heading level0 row3\" >903847</th>\n",
       "      <td id=\"T_7ed92_row3_col0\" class=\"data row3 col0\" >70355</td>\n",
       "      <td id=\"T_7ed92_row3_col1\" class=\"data row3 col1\" >هاري بوتر وجماعة العنقاء (Harry Potter, #5)</td>\n",
       "      <td id=\"T_7ed92_row3_col2\" class=\"data row3 col2\" >955</td>\n",
       "      <td id=\"T_7ed92_row3_col3\" class=\"data row3 col3\" ><a target=\"_blank\" href=\"https://www.goodreads.com/book/show/70355._\">Goodreads</a></td>\n",
       "      <td id=\"T_7ed92_row3_col4\" class=\"data row3 col4\" ><a href=\"https://images.gr-assets.com/books/1351790790m/70355.jpg\"><img src=\"https://images.gr-assets.com/books/1351790790m/70355.jpg\" width=50></img></a></td>\n",
       "      <td id=\"T_7ed92_row3_col5\" class=\"data row3 col5\" > harry potter 5</td>\n",
       "    </tr>\n",
       "    <tr>\n",
       "      <th id=\"T_7ed92_level0_row4\" class=\"row_heading level0 row4\" >138743</th>\n",
       "      <td id=\"T_7ed92_row4_col0\" class=\"data row4 col0\" >14560521</td>\n",
       "      <td id=\"T_7ed92_row4_col1\" class=\"data row4 col1\" >הארי פוטר והאסיר מאזקבאן (Harry Potter, #3)</td>\n",
       "      <td id=\"T_7ed92_row4_col2\" class=\"data row4 col2\" >36</td>\n",
       "      <td id=\"T_7ed92_row4_col3\" class=\"data row4 col3\" ><a target=\"_blank\" href=\"https://www.goodreads.com/book/show/14560521\">Goodreads</a></td>\n",
       "      <td id=\"T_7ed92_row4_col4\" class=\"data row4 col4\" ><a href=\"https://images.gr-assets.com/books/1349261442m/14560521.jpg\"><img src=\"https://images.gr-assets.com/books/1349261442m/14560521.jpg\" width=50></img></a></td>\n",
       "      <td id=\"T_7ed92_row4_col5\" class=\"data row4 col5\" > harry potter 3</td>\n",
       "    </tr>\n",
       "  </tbody>\n",
       "</table>\n"
      ],
      "text/plain": [
       "<pandas.io.formats.style.Styler at 0x7f5feb6bcfd0>"
      ]
     },
     "execution_count": 63,
     "metadata": {},
     "output_type": "execute_result"
    }
   ],
   "source": [
    "search('Harry Potter',vectorizer)"
   ]
  },
  {
   "cell_type": "code",
   "execution_count": null,
   "id": "eb2ad3b9",
   "metadata": {},
   "outputs": [],
   "source": [
    "liked_books = [\"4408\", \"31147619\", \"29983711\", \"9401317\", \"9317691\", \"8153988\", \"20494944\"]"
   ]
  }
 ],
 "metadata": {
  "kernelspec": {
   "display_name": "Python 3 (ipykernel)",
   "language": "python",
   "name": "python3"
  },
  "language_info": {
   "codemirror_mode": {
    "name": "ipython",
    "version": 3
   },
   "file_extension": ".py",
   "mimetype": "text/x-python",
   "name": "python",
   "nbconvert_exporter": "python",
   "pygments_lexer": "ipython3",
   "version": "3.10.7"
  }
 },
 "nbformat": 4,
 "nbformat_minor": 5
}
